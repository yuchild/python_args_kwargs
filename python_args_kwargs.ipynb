{
 "cells": [
  {
   "cell_type": "markdown",
   "metadata": {},
   "source": [
    "from: https://medium.com/better-programming/what-are-args-and-kwargs-in-python-6aaf9e3cad73"
   ]
  },
  {
   "cell_type": "code",
   "execution_count": 1,
   "metadata": {},
   "outputs": [],
   "source": [
    "def printThese(a, b, c):\n",
    "    print(a, 'is stored in a')\n",
    "    print(b, 'is stored in b')\n",
    "    print(c, 'is stored in c')"
   ]
  },
  {
   "cell_type": "code",
   "execution_count": 2,
   "metadata": {},
   "outputs": [
    {
     "name": "stdout",
     "output_type": "stream",
     "text": [
      "1 is stored in a\n",
      "2 is stored in b\n",
      "3 is stored in c\n"
     ]
    }
   ],
   "source": [
    "printThese(1, 2, 3)"
   ]
  },
  {
   "cell_type": "code",
   "execution_count": 3,
   "metadata": {},
   "outputs": [
    {
     "ename": "TypeError",
     "evalue": "printThese() missing 1 required positional argument: 'c'",
     "output_type": "error",
     "traceback": [
      "\u001b[0;31m---------------------------------------------------------------------------\u001b[0m",
      "\u001b[0;31mTypeError\u001b[0m                                 Traceback (most recent call last)",
      "\u001b[0;32m<ipython-input-3-1ee68744614d>\u001b[0m in \u001b[0;36m<module>\u001b[0;34m\u001b[0m\n\u001b[0;32m----> 1\u001b[0;31m \u001b[0mprintThese\u001b[0m\u001b[0;34m(\u001b[0m\u001b[0;36m1\u001b[0m\u001b[0;34m,\u001b[0m \u001b[0;36m2\u001b[0m\u001b[0;34m)\u001b[0m\u001b[0;34m\u001b[0m\u001b[0;34m\u001b[0m\u001b[0m\n\u001b[0m",
      "\u001b[0;31mTypeError\u001b[0m: printThese() missing 1 required positional argument: 'c'"
     ]
    }
   ],
   "source": [
    "printThese(1, 2)"
   ]
  },
  {
   "cell_type": "code",
   "execution_count": 4,
   "metadata": {},
   "outputs": [
    {
     "name": "stdout",
     "output_type": "stream",
     "text": [
      "1 is stored in a\n",
      "2 is stored in b\n",
      "None is stored in c\n"
     ]
    }
   ],
   "source": [
    "def printThese(a, b, c=None):\n",
    "    print(a, 'is stored in a')\n",
    "    print(b, 'is stored in b')\n",
    "    print(c, 'is stored in c')\n",
    "\n",
    "printThese(1, 2)"
   ]
  },
  {
   "cell_type": "code",
   "execution_count": 5,
   "metadata": {},
   "outputs": [
    {
     "name": "stdout",
     "output_type": "stream",
     "text": [
      "1 is stored in a\n",
      "None is stored in b\n",
      "3 is stored in c\n"
     ]
    }
   ],
   "source": [
    "def printThese(a=None, b=None, c=None):\n",
    "    print(a, 'is stored in a')\n",
    "    print(b, 'is stored in b')\n",
    "    print(c, 'is stored in c')\n",
    "\n",
    "printThese(c = 3, a = 1)"
   ]
  },
  {
   "cell_type": "markdown",
   "metadata": {},
   "source": [
    "### Splat Operator *"
   ]
  },
  {
   "cell_type": "code",
   "execution_count": 7,
   "metadata": {},
   "outputs": [
    {
     "data": {
      "text/plain": [
       "[1, 2, 3, 4, 5, 6]"
      ]
     },
     "execution_count": 7,
     "metadata": {},
     "output_type": "execute_result"
    }
   ],
   "source": [
    "a = [1, 2, 3]\n",
    "b = [*a, 4, 5, 6]\n",
    "b"
   ]
  },
  {
   "cell_type": "markdown",
   "metadata": {},
   "source": [
    "### Using *args and **kwargs"
   ]
  },
  {
   "cell_type": "code",
   "execution_count": 9,
   "metadata": {},
   "outputs": [
    {
     "name": "stdout",
     "output_type": "stream",
     "text": [
      "Student: John\n",
      "100\n",
      "95\n",
      "90\n",
      "85\n",
      "80\n",
      "95\n"
     ]
    }
   ],
   "source": [
    "def printScores(student, *scores): # note the *scores instead of *args\n",
    "    print(f'Student: {student}')\n",
    "    for score in scores:\n",
    "        print(score)\n",
    "\n",
    "printScores('John', 100, 95, 90, 85, 80, 95)"
   ]
  },
  {
   "cell_type": "code",
   "execution_count": 11,
   "metadata": {},
   "outputs": [
    {
     "name": "stdout",
     "output_type": "stream",
     "text": [
      "Onwer: \n",
      "dog: Barley\n",
      "fish: ['Bob', 'Katie', 'Jill']\n"
     ]
    }
   ],
   "source": [
    "def printPetNames(owner, **pets): # note the **pets instead of **kwargs\n",
    "    print(f'Onwer: ')\n",
    "    for pet, name in pets.items():\n",
    "        print(f'{pet}: {name}')\n",
    "\n",
    "printPetNames('John'\n",
    "              , dog = 'Barley'\n",
    "              , fish = ['Bob', 'Katie', 'Jill']\n",
    "             )"
   ]
  },
  {
   "cell_type": "code",
   "execution_count": null,
   "metadata": {},
   "outputs": [],
   "source": []
  }
 ],
 "metadata": {
  "kernelspec": {
   "display_name": "Python 3",
   "language": "python",
   "name": "python3"
  },
  "language_info": {
   "codemirror_mode": {
    "name": "ipython",
    "version": 3
   },
   "file_extension": ".py",
   "mimetype": "text/x-python",
   "name": "python",
   "nbconvert_exporter": "python",
   "pygments_lexer": "ipython3",
   "version": "3.7.5"
  }
 },
 "nbformat": 4,
 "nbformat_minor": 4
}
